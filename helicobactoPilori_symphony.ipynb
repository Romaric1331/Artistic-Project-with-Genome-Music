{
  "nbformat": 4,
  "nbformat_minor": 0,
  "metadata": {
    "colab": {
      "provenance": []
    },
    "kernelspec": {
      "name": "python3",
      "display_name": "Python 3"
    },
    "language_info": {
      "name": "python"
    }
  },
  "cells": [
    {
      "cell_type": "code",
      "source": [
        "\n",
        "pip install biopython\n"
      ],
      "metadata": {
        "colab": {
          "base_uri": "https://localhost:8080/"
        },
        "id": "jDFby2v2UFN_",
        "outputId": "5dd51a77-cdc9-4386-c96f-a1d7fe1d0443"
      },
      "execution_count": null,
      "outputs": [
        {
          "output_type": "stream",
          "name": "stdout",
          "text": [
            "Collecting biopython\n",
            "  Downloading biopython-1.81-cp310-cp310-manylinux_2_17_x86_64.manylinux2014_x86_64.whl (3.1 MB)\n",
            "\u001b[2K     \u001b[90m━━━━━━━━━━━━━━━━━━━━━━━━━━━━━━━━━━━━━━━━\u001b[0m \u001b[32m3.1/3.1 MB\u001b[0m \u001b[31m13.1 MB/s\u001b[0m eta \u001b[36m0:00:00\u001b[0m\n",
            "\u001b[?25hRequirement already satisfied: numpy in /usr/local/lib/python3.10/dist-packages (from biopython) (1.23.5)\n",
            "Installing collected packages: biopython\n",
            "Successfully installed biopython-1.81\n"
          ]
        }
      ]
    },
    {
      "cell_type": "code",
      "source": [
        "import midiutil\n",
        "import os\n",
        "import zipfile\n",
        "\n",
        "# Define a mapping dictionary for nucleotide to musical elements\n",
        "nucleotide_to_music = {\n",
        "    'A': {'pitch': 60, 'duration': 0.5},\n",
        "    'T': {'pitch': 62, 'duration': 0.5},\n",
        "    'C': {'pitch': 64, 'duration': 0.5},\n",
        "    'G': {'pitch': 65, 'duration': 0.5},\n",
        "}\n",
        "\n",
        "# Function to convert a sequence chunk to MIDI\n",
        "def convert_chunk_to_midi(chunk):\n",
        "    # Create a MIDI file\n",
        "    midi_file = midiutil.MIDIFile()\n",
        "    midi_file.addTempo(0, 0, 120)\n",
        "\n",
        "    # Convert the chunk to musical notes in MIDI\n",
        "    time = 0\n",
        "    for base in chunk:\n",
        "        if base in nucleotide_to_music:\n",
        "            note_info = nucleotide_to_music[base]\n",
        "            pitch = note_info['pitch']\n",
        "            duration = note_info['duration']\n",
        "            midi_file.addNote(0, 0, pitch, time, duration, 100)\n",
        "            time += duration\n",
        "\n",
        "    return midi_file\n",
        "\n",
        "# Process the genome file in chunks\n",
        "chunk_size = 1000  # Define your chunk size\n",
        "genome_file = \"/content/GCF_017821535.1_ASM1782153v1_genomic.fna\"\n",
        "output_directory = \"/content/output\"  # Define the directory to save the MIDI files\n",
        "\n",
        "# Create the output directory if it doesn't exist\n",
        "if not os.path.exists(output_directory):\n",
        "    os.makedirs(output_directory)\n",
        "\n",
        "with open(genome_file, \"r\") as file:\n",
        "    chunk_counter = 0\n",
        "    while True:\n",
        "        chunk = file.read(chunk_size)\n",
        "        if not chunk:\n",
        "            break\n",
        "        midi_file = convert_chunk_to_midi(chunk)\n",
        "\n",
        "        # Save the MIDI file\n",
        "        midi_file_name = f\"genome_chunk_{chunk_counter}.midi\"\n",
        "        midi_file_path = os.path.join(output_directory, midi_file_name)\n",
        "        with open(midi_file_path, \"wb\") as midi_file_output:\n",
        "            midi_file.writeFile(midi_file_output)\n",
        "\n",
        "        chunk_counter += 1\n",
        "\n",
        "# Zip the generated MIDI files\n",
        "zip_file_name = \"genome_midi_files.zip\"\n",
        "with zipfile.ZipFile(zip_file_name, 'w', zipfile.ZIP_DEFLATED) as zipf:\n",
        "    for root, _, files in os.walk(output_directory):\n",
        "        for file in files:\n",
        "            zipf.write(os.path.join(root, file), os.path.relpath(os.path.join(root, file), output_directory))\n",
        "\n",
        "print(\"MIDI files generated, zipped, and ready for download.\")\n"
      ],
      "metadata": {
        "colab": {
          "base_uri": "https://localhost:8080/"
        },
        "id": "osg2AcRqxHww",
        "outputId": "5b468cc1-43b9-4db4-9869-6c28463a7d1e"
      },
      "execution_count": null,
      "outputs": [
        {
          "output_type": "stream",
          "name": "stdout",
          "text": [
            "MIDI files generated, zipped, and ready for download.\n"
          ]
        }
      ]
    },
    {
      "cell_type": "code",
      "source": [
        "pip install mido"
      ],
      "metadata": {
        "colab": {
          "base_uri": "https://localhost:8080/"
        },
        "id": "GxzCCgWA-oda",
        "outputId": "bc12df34-4b14-4650-950c-1a7d2a0996f6"
      },
      "execution_count": null,
      "outputs": [
        {
          "output_type": "stream",
          "name": "stdout",
          "text": [
            "Collecting mido\n",
            "  Downloading mido-1.3.0-py3-none-any.whl (50 kB)\n",
            "\u001b[?25l     \u001b[90m━━━━━━━━━━━━━━━━━━━━━━━━━━━━━━━━━━━━━━━━\u001b[0m \u001b[32m0.0/50.3 kB\u001b[0m \u001b[31m?\u001b[0m eta \u001b[36m-:--:--\u001b[0m\r\u001b[2K     \u001b[90m━━━━━━━━━━━━━━━━━━━━━━━━━━━━━━━━━━━━━━━━\u001b[0m \u001b[32m50.3/50.3 kB\u001b[0m \u001b[31m2.0 MB/s\u001b[0m eta \u001b[36m0:00:00\u001b[0m\n",
            "\u001b[?25hRequirement already satisfied: packaging~=23.1 in /usr/local/lib/python3.10/dist-packages (from mido) (23.1)\n",
            "Installing collected packages: mido\n",
            "Successfully installed mido-1.3.0\n"
          ]
        }
      ]
    },
    {
      "cell_type": "code",
      "source": [
        "import mido\n",
        "from mido import MidiFile, MidiTrack, Message\n",
        "\n",
        "# Load the MIDI file\n",
        "midi_file = MidiFile('/content/genome_chunk_1270.midi')\n",
        "\n",
        "# Create a new MIDI file with a violin instrument (Program Change 40)\n",
        "new_midi_file = MidiFile()\n",
        "new_track = MidiTrack()\n",
        "new_midi_file.tracks.append(new_track)\n",
        "new_track.append(Message('program_change', program=127))\n",
        "\n",
        "# Iterate through tracks in the original MIDI file\n",
        "for track in midi_file.tracks:\n",
        "    # Create a new track for each original track\n",
        "    track_copy = MidiTrack()\n",
        "    new_midi_file.tracks.append(track_copy)\n",
        "\n",
        "    # Copy messages from the original track to the new track\n",
        "    for msg in track:\n",
        "        track_copy.append(msg)\n",
        "\n",
        "# Save the new MIDI file\n",
        "new_midi_file.save('/content/gunshot_chunk_127_genome.mid')\n",
        "\n",
        "print(\"Instrument changed to violin for the selected chunk.\")\n"
      ],
      "metadata": {
        "colab": {
          "base_uri": "https://localhost:8080/"
        },
        "id": "WPtvziex41eN",
        "outputId": "dccb1b0c-3159-4451-9bb6-b82ed84d282e"
      },
      "execution_count": null,
      "outputs": [
        {
          "output_type": "stream",
          "name": "stdout",
          "text": [
            "Instrument changed to violin for the selected chunk.\n"
          ]
        }
      ]
    },
    {
      "cell_type": "code",
      "source": [
        "from Bio import SeqIO\n",
        "from Bio.Seq import Seq\n",
        "from Bio.SeqRecord import SeqRecord\n",
        "\n",
        "# Input FASTA file\n",
        "input_file = \"input.fasta\"\n",
        "\n",
        "# Output FASTA file for translated amino acid sequences\n",
        "output_fasta_file = \"output.fasta\"\n",
        "\n",
        "# Output text file for amino acid sequences\n",
        "output_text_file = \"amino_Acid_seq.txt\"\n",
        "\n",
        "# Initialize lists to store translated sequences\n",
        "translated_sequences = []\n",
        "amino_acid_sequences = []\n",
        "\n",
        "# Read the input FASTA file and translate sequences\n",
        "for record in SeqIO.parse(input_file, \"fasta\"):\n",
        "    nucleotide_sequence = record.seq\n",
        "    amino_acid_sequence = nucleotide_sequence.translate()\n",
        "\n",
        "    # Create a new SeqRecord for the translated sequence\n",
        "    translated_record = SeqRecord(amino_acid_sequence, id=record.id, description=record.description)\n",
        "\n",
        "    # Add the translated sequence to the list\n",
        "    translated_sequences.append(translated_record)\n",
        "\n",
        "    # Add the amino acid sequence to the list for the text file\n",
        "    amino_acid_sequences.append(f\">{record.id}\\n{amino_acid_sequence}\")\n",
        "\n",
        "# Write the translated sequences to the output FASTA file\n",
        "SeqIO.write(translated_sequences, output_fasta_file, \"fasta\")\n",
        "\n",
        "# Write the amino acid sequences to the output text file\n",
        "with open(output_text_file, \"w\") as text_file:\n",
        "    text_file.write(\"\\n\".join(amino_acid_sequences))\n",
        "\n",
        "print(f\"Translation complete. Translated sequences saved to {output_fasta_file} and {output_text_file}\")\n"
      ],
      "metadata": {
        "colab": {
          "base_uri": "https://localhost:8080/",
          "height": 391
        },
        "id": "Xu4swnhbCK4v",
        "outputId": "1b366a83-e870-4300-f099-83400cd3611f"
      },
      "execution_count": null,
      "outputs": [
        {
          "output_type": "error",
          "ename": "FileNotFoundError",
          "evalue": "ignored",
          "traceback": [
            "\u001b[0;31m---------------------------------------------------------------------------\u001b[0m",
            "\u001b[0;31mFileNotFoundError\u001b[0m                         Traceback (most recent call last)",
            "\u001b[0;32m<ipython-input-3-759ed3e15416>\u001b[0m in \u001b[0;36m<cell line: 19>\u001b[0;34m()\u001b[0m\n\u001b[1;32m     17\u001b[0m \u001b[0;34m\u001b[0m\u001b[0m\n\u001b[1;32m     18\u001b[0m \u001b[0;31m# Read the input FASTA file and translate sequences\u001b[0m\u001b[0;34m\u001b[0m\u001b[0;34m\u001b[0m\u001b[0m\n\u001b[0;32m---> 19\u001b[0;31m \u001b[0;32mfor\u001b[0m \u001b[0mrecord\u001b[0m \u001b[0;32min\u001b[0m \u001b[0mSeqIO\u001b[0m\u001b[0;34m.\u001b[0m\u001b[0mparse\u001b[0m\u001b[0;34m(\u001b[0m\u001b[0minput_file\u001b[0m\u001b[0;34m,\u001b[0m \u001b[0;34m\"fasta\"\u001b[0m\u001b[0;34m)\u001b[0m\u001b[0;34m:\u001b[0m\u001b[0;34m\u001b[0m\u001b[0;34m\u001b[0m\u001b[0m\n\u001b[0m\u001b[1;32m     20\u001b[0m     \u001b[0mnucleotide_sequence\u001b[0m \u001b[0;34m=\u001b[0m \u001b[0mrecord\u001b[0m\u001b[0;34m.\u001b[0m\u001b[0mseq\u001b[0m\u001b[0;34m\u001b[0m\u001b[0;34m\u001b[0m\u001b[0m\n\u001b[1;32m     21\u001b[0m     \u001b[0mamino_acid_sequence\u001b[0m \u001b[0;34m=\u001b[0m \u001b[0mnucleotide_sequence\u001b[0m\u001b[0;34m.\u001b[0m\u001b[0mtranslate\u001b[0m\u001b[0;34m(\u001b[0m\u001b[0;34m)\u001b[0m\u001b[0;34m\u001b[0m\u001b[0;34m\u001b[0m\u001b[0m\n",
            "\u001b[0;32m/usr/local/lib/python3.10/dist-packages/Bio/SeqIO/__init__.py\u001b[0m in \u001b[0;36mparse\u001b[0;34m(handle, format, alphabet)\u001b[0m\n\u001b[1;32m    603\u001b[0m     \u001b[0miterator_generator\u001b[0m \u001b[0;34m=\u001b[0m \u001b[0m_FormatToIterator\u001b[0m\u001b[0;34m.\u001b[0m\u001b[0mget\u001b[0m\u001b[0;34m(\u001b[0m\u001b[0mformat\u001b[0m\u001b[0;34m)\u001b[0m\u001b[0;34m\u001b[0m\u001b[0;34m\u001b[0m\u001b[0m\n\u001b[1;32m    604\u001b[0m     \u001b[0;32mif\u001b[0m \u001b[0miterator_generator\u001b[0m\u001b[0;34m:\u001b[0m\u001b[0;34m\u001b[0m\u001b[0;34m\u001b[0m\u001b[0m\n\u001b[0;32m--> 605\u001b[0;31m         \u001b[0;32mreturn\u001b[0m \u001b[0miterator_generator\u001b[0m\u001b[0;34m(\u001b[0m\u001b[0mhandle\u001b[0m\u001b[0;34m)\u001b[0m\u001b[0;34m\u001b[0m\u001b[0;34m\u001b[0m\u001b[0m\n\u001b[0m\u001b[1;32m    606\u001b[0m     \u001b[0;32mif\u001b[0m \u001b[0mformat\u001b[0m \u001b[0;32min\u001b[0m \u001b[0mAlignIO\u001b[0m\u001b[0;34m.\u001b[0m\u001b[0m_FormatToIterator\u001b[0m\u001b[0;34m:\u001b[0m\u001b[0;34m\u001b[0m\u001b[0;34m\u001b[0m\u001b[0m\n\u001b[1;32m    607\u001b[0m         \u001b[0;31m# Use Bio.AlignIO to read in the alignments\u001b[0m\u001b[0;34m\u001b[0m\u001b[0;34m\u001b[0m\u001b[0m\n",
            "\u001b[0;32m/usr/local/lib/python3.10/dist-packages/Bio/SeqIO/FastaIO.py\u001b[0m in \u001b[0;36m__init__\u001b[0;34m(self, source, alphabet, title2ids)\u001b[0m\n\u001b[1;32m    221\u001b[0m             )\n\u001b[1;32m    222\u001b[0m         \u001b[0mself\u001b[0m\u001b[0;34m.\u001b[0m\u001b[0mtitle2ids\u001b[0m \u001b[0;34m=\u001b[0m \u001b[0mtitle2ids\u001b[0m\u001b[0;34m\u001b[0m\u001b[0;34m\u001b[0m\u001b[0m\n\u001b[0;32m--> 223\u001b[0;31m         \u001b[0msuper\u001b[0m\u001b[0;34m(\u001b[0m\u001b[0;34m)\u001b[0m\u001b[0;34m.\u001b[0m\u001b[0m__init__\u001b[0m\u001b[0;34m(\u001b[0m\u001b[0msource\u001b[0m\u001b[0;34m,\u001b[0m \u001b[0mmode\u001b[0m\u001b[0;34m=\u001b[0m\u001b[0;34m\"t\"\u001b[0m\u001b[0;34m,\u001b[0m \u001b[0mfmt\u001b[0m\u001b[0;34m=\u001b[0m\u001b[0;34m\"Fasta\"\u001b[0m\u001b[0;34m)\u001b[0m\u001b[0;34m\u001b[0m\u001b[0;34m\u001b[0m\u001b[0m\n\u001b[0m\u001b[1;32m    224\u001b[0m \u001b[0;34m\u001b[0m\u001b[0m\n\u001b[1;32m    225\u001b[0m     \u001b[0;32mdef\u001b[0m \u001b[0mparse\u001b[0m\u001b[0;34m(\u001b[0m\u001b[0mself\u001b[0m\u001b[0;34m,\u001b[0m \u001b[0mhandle\u001b[0m\u001b[0;34m)\u001b[0m\u001b[0;34m:\u001b[0m\u001b[0;34m\u001b[0m\u001b[0;34m\u001b[0m\u001b[0m\n",
            "\u001b[0;32m/usr/local/lib/python3.10/dist-packages/Bio/SeqIO/Interfaces.py\u001b[0m in \u001b[0;36m__init__\u001b[0;34m(self, source, alphabet, mode, fmt)\u001b[0m\n\u001b[1;32m     43\u001b[0m             \u001b[0;32mraise\u001b[0m \u001b[0mValueError\u001b[0m\u001b[0;34m(\u001b[0m\u001b[0;34m\"The alphabet argument is no longer supported\"\u001b[0m\u001b[0;34m)\u001b[0m\u001b[0;34m\u001b[0m\u001b[0;34m\u001b[0m\u001b[0m\n\u001b[1;32m     44\u001b[0m         \u001b[0;32mtry\u001b[0m\u001b[0;34m:\u001b[0m\u001b[0;34m\u001b[0m\u001b[0;34m\u001b[0m\u001b[0m\n\u001b[0;32m---> 45\u001b[0;31m             \u001b[0mself\u001b[0m\u001b[0;34m.\u001b[0m\u001b[0mstream\u001b[0m \u001b[0;34m=\u001b[0m \u001b[0mopen\u001b[0m\u001b[0;34m(\u001b[0m\u001b[0msource\u001b[0m\u001b[0;34m,\u001b[0m \u001b[0;34m\"r\"\u001b[0m \u001b[0;34m+\u001b[0m \u001b[0mmode\u001b[0m\u001b[0;34m)\u001b[0m\u001b[0;34m\u001b[0m\u001b[0;34m\u001b[0m\u001b[0m\n\u001b[0m\u001b[1;32m     46\u001b[0m             \u001b[0mself\u001b[0m\u001b[0;34m.\u001b[0m\u001b[0mshould_close_stream\u001b[0m \u001b[0;34m=\u001b[0m \u001b[0;32mTrue\u001b[0m\u001b[0;34m\u001b[0m\u001b[0;34m\u001b[0m\u001b[0m\n\u001b[1;32m     47\u001b[0m         \u001b[0;32mexcept\u001b[0m \u001b[0mTypeError\u001b[0m\u001b[0;34m:\u001b[0m  \u001b[0;31m# not a path, assume we received a stream\u001b[0m\u001b[0;34m\u001b[0m\u001b[0;34m\u001b[0m\u001b[0m\n",
            "\u001b[0;31mFileNotFoundError\u001b[0m: [Errno 2] No such file or directory: 'input.fasta'"
          ]
        }
      ]
    },
    {
      "cell_type": "code",
      "source": [
        "from Bio import SeqIO\n",
        "from Bio.SeqRecord import SeqRecord\n",
        "\n",
        "# Input FASTA file containing amino acid sequences\n",
        "input_file = \"/content/aminoacid_hbp_plasmid sequence.fasta\"\n",
        "\n",
        "# Output MIDI file for the translated organ music\n",
        "output_midi_file = \"organ_amino.mid\"\n",
        "\n",
        "# Define a mapping of amino acids to organ-like MIDI notes (adjust as needed)\n",
        "amino_acid_mapping = {\n",
        "    'A': 60,\n",
        "    'C': 62,\n",
        "    'D': 64,\n",
        "    'E': 65,\n",
        "    'F': 67,\n",
        "    'G': 69,\n",
        "    'H': 71,\n",
        "    'I': 72,\n",
        "    'K': 74,\n",
        "    'L': 76,\n",
        "    'M': 77,\n",
        "    'N': 79,\n",
        "    'P': 81,\n",
        "    'Q': 83,\n",
        "    'R': 84,\n",
        "    'S': 86,\n",
        "    'T': 88,\n",
        "    'V': 89,\n",
        "    'W': 91,\n",
        "    'Y': 93,\n",
        "    '*': 95,  # Stop codon, mapped to a different MIDI note\n",
        "}\n",
        "\n",
        "# Read the input FASTA file and translate amino acids into organ-like MIDI notes\n",
        "translated_music = []\n",
        "\n",
        "for record in SeqIO.parse(input_file, \"fasta\"):\n",
        "    amino_acid_sequence = str(record.seq)\n",
        "    midi_notes = [amino_acid_mapping[aa] for aa in amino_acid_sequence]\n",
        "    translated_music.extend(midi_notes)\n",
        "\n",
        "# Create a MIDI file from the translated organ-like music\n",
        "from midiutil import MIDIFile\n",
        "\n",
        "midi_file = MIDIFile(1)  # Create a single-track MIDI file\n",
        "track = 0\n",
        "channel = 0\n",
        "\n",
        "# Set instrument (organ)\n",
        "midi_file.addProgramChange(track, channel, time=0, program=20)  # Program 20 corresponds to the organ\n",
        "\n",
        "# Add the translated MIDI notes to the MIDI file\n",
        "time = 0\n",
        "duration = 1\n",
        "volume = 100\n",
        "\n",
        "for note in translated_music:\n",
        "    midi_file.addNote(track, channel, note, time, duration, volume)\n",
        "    time += duration\n",
        "\n",
        "# Save the MIDI file\n",
        "with open(output_midi_file, \"wb\") as midi_output:\n",
        "    midi_file.writeFile(midi_output)\n",
        "\n",
        "print(f\"Translation complete. Organ-like MIDI file saved to {output_midi_file}\")\n"
      ],
      "metadata": {
        "id": "2Eh2g5ykEXWm",
        "colab": {
          "base_uri": "https://localhost:8080/"
        },
        "outputId": "c1d511c8-1799-444a-d793-bc8b4d3fd227"
      },
      "execution_count": null,
      "outputs": [
        {
          "output_type": "stream",
          "name": "stdout",
          "text": [
            "Translation complete. Organ-like MIDI file saved to organ_amino.mid\n"
          ]
        }
      ]
    },
    {
      "cell_type": "code",
      "source": [
        "# Input text file containing sequences\n",
        "input_text_file = \"/content/aminoacid_hbp_plasmid sequence.fasta.txt\"\n",
        "\n",
        "# Output FASTA file\n",
        "output_fasta_file = \"aminoacid_hbp_plasmid sequence.fasta\"\n",
        "\n",
        "# Read the input text file and create a FASTA file\n",
        "with open(input_text_file, \"r\") as input_file, open(output_fasta_file, \"w\") as output_file:\n",
        "    sequence_id = 1  # Initialize a sequence ID counter\n",
        "    for line in input_file:\n",
        "        # Remove leading/trailing whitespace from the sequence\n",
        "        sequence = line.strip()\n",
        "\n",
        "        # Skip empty lines\n",
        "        if not sequence:\n",
        "            continue\n",
        "\n",
        "        # Create a FASTA header with a unique sequence ID\n",
        "        header = f\">Sequence_{sequence_id}\"\n",
        "\n",
        "        # Write the header and sequence to the FASTA file\n",
        "        output_file.write(header + \"\\n\")\n",
        "        output_file.write(sequence + \"\\n\")\n",
        "\n",
        "        sequence_id += 1  # Increment the sequence ID\n",
        "\n",
        "print(f\"Conversion complete. Sequences saved to {output_fasta_file}\")\n"
      ],
      "metadata": {
        "colab": {
          "base_uri": "https://localhost:8080/"
        },
        "id": "gk-oEXiCEnG_",
        "outputId": "b5fa8561-cd9b-4275-fc75-e99e17f7bf79"
      },
      "execution_count": null,
      "outputs": [
        {
          "output_type": "stream",
          "name": "stdout",
          "text": [
            "Conversion complete. Sequences saved to aminoacid_hbp_plasmid sequence.fasta\n"
          ]
        }
      ]
    }
  ]
}